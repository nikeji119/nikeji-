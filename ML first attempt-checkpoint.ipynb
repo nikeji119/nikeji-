{
 "cells": [
  {
   "cell_type": "code",
   "execution_count": 2,
   "id": "7e5428e6",
   "metadata": {},
   "outputs": [],
   "source": [
    "program= \"artificial intelligence\"\n",
    "inte= 10\n",
    "floate= 10.2\n",
    "bull=True"
   ]
  },
  {
   "cell_type": "code",
   "execution_count": 3,
   "id": "203a9c94",
   "metadata": {},
   "outputs": [
    {
     "name": "stdout",
     "output_type": "stream",
     "text": [
      "<class 'str'>\n",
      "<class 'int'>\n",
      "<class 'float'>\n",
      "<class 'bool'>\n"
     ]
    }
   ],
   "source": [
    "print(type(program))\n",
    "print(type(inte))\n",
    "print(type(floate))\n",
    "print(type(bull))"
   ]
  },
  {
   "cell_type": "code",
   "execution_count": 4,
   "id": "f0aa0f4e",
   "metadata": {},
   "outputs": [
    {
     "data": {
      "text/plain": [
       "'10.2'"
      ]
     },
     "execution_count": 4,
     "metadata": {},
     "output_type": "execute_result"
    }
   ],
   "source": [
    "str(floate) "
   ]
  },
  {
   "cell_type": "code",
   "execution_count": 5,
   "id": "92a6735b",
   "metadata": {},
   "outputs": [
    {
     "ename": "ValueError",
     "evalue": "could not convert string to float: 'artificial intelligence'",
     "output_type": "error",
     "traceback": [
      "\u001b[1;31m---------------------------------------------------------------------------\u001b[0m",
      "\u001b[1;31mValueError\u001b[0m                                Traceback (most recent call last)",
      "\u001b[1;32m<ipython-input-5-9c4ddf0c8d2b>\u001b[0m in \u001b[0;36m<module>\u001b[1;34m\u001b[0m\n\u001b[1;32m----> 1\u001b[1;33m \u001b[0mfloat\u001b[0m\u001b[1;33m(\u001b[0m\u001b[0mprogram\u001b[0m\u001b[1;33m)\u001b[0m\u001b[1;33m\u001b[0m\u001b[1;33m\u001b[0m\u001b[0m\n\u001b[0m",
      "\u001b[1;31mValueError\u001b[0m: could not convert string to float: 'artificial intelligence'"
     ]
    }
   ],
   "source": [
    "float(program)"
   ]
  },
  {
   "cell_type": "code",
   "execution_count": 6,
   "id": "10883681",
   "metadata": {},
   "outputs": [
    {
     "data": {
      "text/plain": [
       "1"
      ]
     },
     "execution_count": 6,
     "metadata": {},
     "output_type": "execute_result"
    }
   ],
   "source": [
    "int(bull)"
   ]
  },
  {
   "cell_type": "code",
   "execution_count": 7,
   "id": "384aedcd",
   "metadata": {},
   "outputs": [
    {
     "data": {
      "text/plain": [
       "1.0"
      ]
     },
     "execution_count": 7,
     "metadata": {},
     "output_type": "execute_result"
    }
   ],
   "source": [
    "float(bull)"
   ]
  },
  {
   "cell_type": "code",
   "execution_count": 8,
   "id": "87b5fe84",
   "metadata": {},
   "outputs": [
    {
     "data": {
      "text/plain": [
       "10"
      ]
     },
     "execution_count": 8,
     "metadata": {},
     "output_type": "execute_result"
    }
   ],
   "source": [
    "int(floate)"
   ]
  },
  {
   "cell_type": "code",
   "execution_count": null,
   "id": "9c7cb486",
   "metadata": {},
   "outputs": [],
   "source": []
  }
 ],
 "metadata": {
  "kernelspec": {
   "display_name": "Python 3",
   "language": "python",
   "name": "python3"
  },
  "language_info": {
   "codemirror_mode": {
    "name": "ipython",
    "version": 3
   },
   "file_extension": ".py",
   "mimetype": "text/x-python",
   "name": "python",
   "nbconvert_exporter": "python",
   "pygments_lexer": "ipython3",
   "version": "3.8.8"
  }
 },
 "nbformat": 4,
 "nbformat_minor": 5
}
