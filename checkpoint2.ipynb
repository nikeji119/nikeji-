{
 "cells": [
  {
   "cell_type": "markdown",
   "id": "76b3f6d2",
   "metadata": {},
   "source": [
    "## Write a program that will find all numbers which are divisible by 7 but are not a multiple of 5, between 2000 and 3200 (both included). The numbers obtained should be printed in a list"
   ]
  },
  {
   "cell_type": "code",
   "execution_count": 14,
   "id": "9803488e",
   "metadata": {},
   "outputs": [],
   "source": [
    "rang = range(2000, 3201)\n",
    "lis1 = []\n",
    "for num in rang:\n",
    "  if num % 7 == 0 and num % 5 != 0:\n",
    "    lis1.append(num)"
   ]
  },
  {
   "cell_type": "code",
   "execution_count": 35,
   "id": "cd0398d6",
   "metadata": {},
   "outputs": [
    {
     "name": "stdout",
     "output_type": "stream",
     "text": [
      "[2002, 2009, 2016, 2023, 2037, 2044, 2051, 2058, 2072, 2079, 2086, 2093, 2107, 2114, 2121, 2128, 2142, 2149, 2156, 2163, 2177, 2184, 2191, 2198, 2212, 2219, 2226, 2233, 2247, 2254, 2261, 2268, 2282, 2289, 2296, 2303, 2317, 2324, 2331, 2338, 2352, 2359, 2366, 2373, 2387, 2394, 2401, 2408, 2422, 2429, 2436, 2443, 2457, 2464, 2471, 2478, 2492, 2499, 2506, 2513, 2527, 2534, 2541, 2548, 2562, 2569, 2576, 2583, 2597, 2604, 2611, 2618, 2632, 2639, 2646, 2653, 2667, 2674, 2681, 2688, 2702, 2709, 2716, 2723, 2737, 2744, 2751, 2758, 2772, 2779, 2786, 2793, 2807, 2814, 2821, 2828, 2842, 2849, 2856, 2863, 2877, 2884, 2891, 2898, 2912, 2919, 2926, 2933, 2947, 2954, 2961, 2968, 2982, 2989, 2996, 3003, 3017, 3024, 3031, 3038, 3052, 3059, 3066, 3073, 3087, 3094, 3101, 3108, 3122, 3129, 3136, 3143, 3157, 3164, 3171, 3178, 3192, 3199]\n"
     ]
    }
   ],
   "source": [
    "print(lis1)"
   ]
  },
  {
   "cell_type": "markdown",
   "id": "379d5872",
   "metadata": {},
   "source": [
    "# Write a program that can compute the factorial of a given number. (The factorial of n is the product of all positive integers less than or equal to n.) For example: For factorial(5)= 5 x 4 x 3 x 2 x 1 the result is 120 (i.e. factorial (0)=1)."
   ]
  },
  {
   "cell_type": "code",
   "execution_count": 61,
   "id": "e8d24b87",
   "metadata": {},
   "outputs": [],
   "source": [
    "def factorial(n):\n",
    "    if n<1:\n",
    "        print('Error')\n",
    "    elif n==1:\n",
    "        return 1\n",
    "    else:\n",
    "         (n* factorial(n-1))"
   ]
  },
  {
   "cell_type": "code",
   "execution_count": 64,
   "id": "27e53e9b",
   "metadata": {},
   "outputs": [
    {
     "data": {
      "text/plain": [
       "5040"
      ]
     },
     "execution_count": 64,
     "metadata": {},
     "output_type": "execute_result"
    }
   ],
   "source": [
    "factorial(7)"
   ]
  },
  {
   "cell_type": "markdown",
   "id": "df00e6a2",
   "metadata": {},
   "source": [
    "# With a given integer number n, write a program to generate a dictionary that contains (i, i*i) such that is an integral number between 1 and n (both included). Then, the program should print the dictionary. Suppose the following input is supplied to the program: 8 Then, the output should be: {1: 1, 2: 4, 3: 9, 4: 16, 5: 25, 6: 36, 7: 49, 8: 64}  "
   ]
  },
  {
   "cell_type": "code",
   "execution_count": 47,
   "id": "489a55c2",
   "metadata": {},
   "outputs": [],
   "source": [
    "def sqr(a,b):\n",
    "  dic = {}\n",
    "  for i in range (a,b):\n",
    "    dic.update({i:i*i})\n",
    "  print(dic)"
   ]
  },
  {
   "cell_type": "code",
   "execution_count": 65,
   "id": "437c40ad",
   "metadata": {},
   "outputs": [
    {
     "name": "stdout",
     "output_type": "stream",
     "text": [
      "{1: 1, 2: 4, 3: 9, 4: 16, 5: 25, 6: 36, 7: 49, 8: 64, 9: 81, 10: 100, 11: 121, 12: 144, 13: 169, 14: 196, 15: 225, 16: 256, 17: 289, 18: 324, 19: 361, 20: 400, 21: 441, 22: 484, 23: 529, 24: 576, 25: 625, 26: 676, 27: 729, 28: 784, 29: 841, 30: 900, 31: 961, 32: 1024, 33: 1089, 34: 1156, 35: 1225, 36: 1296, 37: 1369, 38: 1444, 39: 1521}\n"
     ]
    }
   ],
   "source": [
    "sqr(1,40)"
   ]
  },
  {
   "cell_type": "markdown",
   "id": "442ac7e2",
   "metadata": {},
   "source": [
    "# Given a non-empty string and an integral n, return a new string where the char at index n has been removed. The value of n will be a valid index of a char in the original string (i.e. n will be in the range 0..len(str)-1 inclusive). \n",
    "\n",
    "missing_char('kitten', 1) → 'ktten'    for example here we remove \"i\" which is located in the index 1\n",
    "\n",
    "missing_char('kitten', 0) → 'itten'   here we remove \"k\" which is in the index 0\n",
    "\n",
    "missing_char('kitten', 4) → 'kittn'   here we remove \"e\" which is in the index 4"
   ]
  },
  {
   "cell_type": "code",
   "execution_count": 119,
   "id": "b5dbee87",
   "metadata": {},
   "outputs": [],
   "source": [
    "def remove_char(str,n):\n",
    "    return str[:n] + str[n+1:] #return the first part of your string +return the last part of your string"
   ]
  },
  {
   "cell_type": "code",
   "execution_count": 120,
   "id": "05e3c858",
   "metadata": {},
   "outputs": [
    {
     "data": {
      "text/plain": [
       "'uppy'"
      ]
     },
     "execution_count": 120,
     "metadata": {},
     "output_type": "execute_result"
    }
   ],
   "source": [
    "remove_char('puppy', 0)"
   ]
  },
  {
   "cell_type": "code",
   "execution_count": 121,
   "id": "fb2bcbf4",
   "metadata": {},
   "outputs": [
    {
     "data": {
      "text/plain": [
       "'pupy'"
      ]
     },
     "execution_count": 121,
     "metadata": {},
     "output_type": "execute_result"
    }
   ],
   "source": [
    "remove_char('puppy', 3)"
   ]
  },
  {
   "cell_type": "code",
   "execution_count": 122,
   "id": "49805383",
   "metadata": {},
   "outputs": [
    {
     "data": {
      "text/plain": [
       "'pupp'"
      ]
     },
     "execution_count": 122,
     "metadata": {},
     "output_type": "execute_result"
    }
   ],
   "source": [
    "remove_char('puppy',4)"
   ]
  },
  {
   "cell_type": "markdown",
   "id": "84ef928a",
   "metadata": {},
   "source": [
    "# Write a NumPy program to convert a NumPy array into a Python list structure.\n",
    "\n",
    "Expected output: \n",
    "\n",
    "Original array elements: [[0 1] [2 3] [4 5]] \n",
    "\n",
    "Array to list: [[0, 1], [2, 3], [4, 5]] \n",
    " \n",
    "\n",
    "Hint: We can use the to_list() function to ensure the conversion."
   ]
  },
  {
   "cell_type": "code",
   "execution_count": 132,
   "id": "3934b85d",
   "metadata": {},
   "outputs": [],
   "source": [
    "import numpy as np"
   ]
  },
  {
   "cell_type": "code",
   "execution_count": 134,
   "id": "0d5b420f",
   "metadata": {},
   "outputs": [],
   "source": [
    "y = np.array([[2,5],[4,9]])"
   ]
  },
  {
   "cell_type": "code",
   "execution_count": 25,
   "id": "3f761672",
   "metadata": {},
   "outputs": [],
   "source": [
    "data = np.array([[0,1],[2,3],[4, 5]])"
   ]
  },
  {
   "cell_type": "code",
   "execution_count": 26,
   "id": "a4d015b8",
   "metadata": {},
   "outputs": [
    {
     "data": {
      "text/plain": [
       "numpy.ndarray"
      ]
     },
     "execution_count": 26,
     "metadata": {},
     "output_type": "execute_result"
    }
   ],
   "source": [
    "type(data)"
   ]
  },
  {
   "cell_type": "code",
   "execution_count": 28,
   "id": "63b75e25",
   "metadata": {},
   "outputs": [],
   "source": [
    "new_data = data.tolist()"
   ]
  },
  {
   "cell_type": "code",
   "execution_count": 151,
   "id": "a6c5dfbc",
   "metadata": {},
   "outputs": [
    {
     "data": {
      "text/plain": [
       "[[0, 1], [2, 3], [4, 5]]"
      ]
     },
     "execution_count": 151,
     "metadata": {},
     "output_type": "execute_result"
    }
   ],
   "source": [
    "new_data"
   ]
  },
  {
   "cell_type": "markdown",
   "id": "74bb0be3",
   "metadata": {},
   "source": [
    "# Write a NumPy program to compute the covariance matrix of two given arrays. \n",
    "\n",
    "Original array1: [0 1 2] \n",
    "\n",
    "Original array2: [2 1 0] \n",
    "\n",
    "Covariance matrix of the said arrays: [[ 1. -1.] [-1. 1.]]\n",
    " \n",
    "\n",
    "Hint: We can use the np.cov() function to calculate the covariance between these two arrays"
   ]
  },
  {
   "cell_type": "code",
   "execution_count": 6,
   "id": "87931c8b",
   "metadata": {},
   "outputs": [],
   "source": [
    "import numpy as np"
   ]
  },
  {
   "cell_type": "code",
   "execution_count": 7,
   "id": "0afb5d50",
   "metadata": {},
   "outputs": [],
   "source": [
    "m = np.array([0,1,2])\n",
    "n = np.array([2,1,0])"
   ]
  },
  {
   "cell_type": "code",
   "execution_count": 13,
   "id": "02218e82",
   "metadata": {},
   "outputs": [
    {
     "name": "stdout",
     "output_type": "stream",
     "text": [
      "[0 1 2]\n"
     ]
    }
   ],
   "source": [
    "print(m)"
   ]
  },
  {
   "cell_type": "code",
   "execution_count": 14,
   "id": "384be576",
   "metadata": {},
   "outputs": [
    {
     "name": "stdout",
     "output_type": "stream",
     "text": [
      "[2 1 0]\n"
     ]
    }
   ],
   "source": [
    "print(n)"
   ]
  },
  {
   "cell_type": "code",
   "execution_count": 20,
   "id": "f5834473",
   "metadata": {},
   "outputs": [
    {
     "name": "stdout",
     "output_type": "stream",
     "text": [
      "nCovariance matrix:\n",
      " [[ 1. -1.]\n",
      " [-1.  1.]]\n"
     ]
    }
   ],
   "source": [
    "print(\"nCovariance matrix:\\n\",np.cov(m, n))"
   ]
  },
  {
   "cell_type": "markdown",
   "id": "5eb0a9a1",
   "metadata": {},
   "source": [
    "# Question: Write a program that calculates and prints the value according to the given formula: Q= Square root of [(2 * C * D)/H] \n",
    "\n",
    "The following are the fixed values of C and H: C is 50. H is 30. \n",
    "\n",
    "D is the variable whose values should be input into your program in a comma-separated sequence. (That means D contains more than value)\n",
    "\n",
    "Example: Let's assume the following comma-separated input sequence is given to the program: 100,150,180 The output of the program should be 18,22,24 \n",
    "\n",
    "To further explain this, we will obtain a result for each value of D:  Q1= Square root of [(2 * C * 100)/H] =18, Q2= Square root of [(2 * C * 150)/H] = 22 and Q3 = Square root of [(2 * C * 180)/H]  = 24\n",
    "\n",
    "Hint: If the output received is in decimal form, it should be rounded off to its nearest value. For example, if the output received is 26.0, it should be printed as 26. In case of input data being supplied to the question, it should be assumed to be a console input. "
   ]
  },
  {
   "cell_type": "code",
   "execution_count": 1,
   "id": "6472caa4",
   "metadata": {},
   "outputs": [],
   "source": [
    "c = 50\n",
    "h = 30\n",
    "d = []\n",
    "def root(values):\n",
    "    for d in values:\n",
    "        d.append(int(((2*c*d)/h)**0.5))\n",
    "    return d"
   ]
  },
  {
   "cell_type": "code",
   "execution_count": 155,
   "id": "02f553b2",
   "metadata": {},
   "outputs": [
    {
     "data": {
      "text/plain": [
       "[9, 51, 4]"
      ]
     },
     "execution_count": 155,
     "metadata": {},
     "output_type": "execute_result"
    }
   ],
   "source": [
    "root([25, 800, 6])"
   ]
  },
  {
   "cell_type": "code",
   "execution_count": null,
   "id": "e1d95162",
   "metadata": {},
   "outputs": [],
   "source": []
  }
 ],
 "metadata": {
  "kernelspec": {
   "display_name": "Python 3",
   "language": "python",
   "name": "python3"
  },
  "language_info": {
   "codemirror_mode": {
    "name": "ipython",
    "version": 3
   },
   "file_extension": ".py",
   "mimetype": "text/x-python",
   "name": "python",
   "nbconvert_exporter": "python",
   "pygments_lexer": "ipython3",
   "version": "3.8.8"
  }
 },
 "nbformat": 4,
 "nbformat_minor": 5
}
